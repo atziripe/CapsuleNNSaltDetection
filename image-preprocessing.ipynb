{
 "cells": [
  {
   "cell_type": "markdown",
   "id": "a0e94ea2",
   "metadata": {},
   "source": [
    "## Get dataset from Kaggle"
   ]
  },
  {
   "cell_type": "code",
   "execution_count": null,
   "id": "65f59da9",
   "metadata": {},
   "outputs": [],
   "source": []
  }
 ],
 "metadata": {
  "kernelspec": {
   "display_name": "",
   "name": ""
  },
  "language_info": {
   "name": ""
  }
 },
 "nbformat": 4,
 "nbformat_minor": 5
}
