{
 "cells": [
  {
   "cell_type": "markdown",
   "id": "32cd4b5b",
   "metadata": {},
   "source": [
    "## Get dataset from Kaggle"
   ]
  },
  {
   "cell_type": "markdown",
   "id": "8ab58f92",
   "metadata": {},
   "source": [
    "Install Kaggle API client"
   ]
  },
  {
   "cell_type": "code",
   "execution_count": 1,
   "id": "5e599def",
   "metadata": {},
   "outputs": [
    {
     "name": "stdout",
     "output_type": "stream",
     "text": [
      "Collecting kaggle\n",
      "  Downloading kaggle-1.5.12.tar.gz (58 kB)\n",
      "Requirement already satisfied: six>=1.10 in /home/ec2-user/anaconda3/envs/mxnet_p36/lib/python3.6/site-packages (from kaggle) (1.15.0)\n",
      "Requirement already satisfied: certifi in /home/ec2-user/anaconda3/envs/mxnet_p36/lib/python3.6/site-packages (from kaggle) (2021.5.30)\n",
      "Requirement already satisfied: python-dateutil in /home/ec2-user/anaconda3/envs/mxnet_p36/lib/python3.6/site-packages (from kaggle) (2.8.1)\n",
      "Requirement already satisfied: requests in /home/ec2-user/anaconda3/envs/mxnet_p36/lib/python3.6/site-packages (from kaggle) (2.25.1)\n",
      "Collecting tqdm\n",
      "  Downloading tqdm-4.61.2-py2.py3-none-any.whl (76 kB)\n",
      "Collecting python-slugify\n",
      "  Downloading python_slugify-5.0.2-py2.py3-none-any.whl (6.7 kB)\n",
      "Requirement already satisfied: urllib3 in /home/ec2-user/anaconda3/envs/mxnet_p36/lib/python3.6/site-packages (from kaggle) (1.26.5)\n",
      "Collecting text-unidecode>=1.3\n",
      "  Downloading text_unidecode-1.3-py2.py3-none-any.whl (78 kB)\n",
      "Requirement already satisfied: idna<3,>=2.5 in /home/ec2-user/anaconda3/envs/mxnet_p36/lib/python3.6/site-packages (from requests->kaggle) (2.10)\n",
      "Requirement already satisfied: chardet<5,>=3.0.2 in /home/ec2-user/anaconda3/envs/mxnet_p36/lib/python3.6/site-packages (from requests->kaggle) (3.0.4)\n",
      "Building wheels for collected packages: kaggle\n",
      "  Building wheel for kaggle (setup.py): started\n",
      "  Building wheel for kaggle (setup.py): finished with status 'done'\n",
      "  Created wheel for kaggle: filename=kaggle-1.5.12-py3-none-any.whl size=73053 sha256=2be788ac1655f60bf05691da3e8dd65b9d26eac279495b5fc0eef0d8e6f223df\n",
      "  Stored in directory: /home/ec2-user/.cache/pip/wheels/77/47/e4/44a4ba1b7dfd53faaa35f59f1175e123b213ff401a8a56876b\n",
      "Successfully built kaggle\n",
      "Installing collected packages: text-unidecode, tqdm, python-slugify, kaggle\n",
      "Successfully installed kaggle-1.5.12 python-slugify-5.0.2 text-unidecode-1.3 tqdm-4.61.2\n"
     ]
    },
    {
     "name": "stderr",
     "output_type": "stream",
     "text": [
      "WARNING: You are using pip version 21.1.2; however, version 21.1.3 is available.\n",
      "You should consider upgrading via the '/home/ec2-user/anaconda3/envs/mxnet_p36/bin/python -m pip install --upgrade pip' command.\n"
     ]
    }
   ],
   "source": [
    "%%bash\n",
    "\n",
    "pip install kaggle"
   ]
  },
  {
   "cell_type": "markdown",
   "id": "a0902cd6",
   "metadata": {},
   "source": [
    "Move API key to where Kaggle expects it and change file permissions"
   ]
  },
  {
   "cell_type": "code",
   "execution_count": 2,
   "id": "2a76b9be",
   "metadata": {},
   "outputs": [],
   "source": [
    "%%bash\n",
    "\n",
    "mkdir /home/ec2-user/.kaggle/\n",
    "mv /home/ec2-user/SageMaker/CapsuleNNSaltDetection/kaggle.json /home/ec2-user/.kaggle/\n",
    "chmod 600 /home/ec2-user/.kaggle/kaggle.json"
   ]
  },
  {
   "cell_type": "code",
   "execution_count": 3,
   "id": "cbc78acc",
   "metadata": {},
   "outputs": [
    {
     "name": "stdout",
     "output_type": "stream",
     "text": [
      "Downloading tgs-salt-identification-challenge.zip to /home/ec2-user/SageMaker/CapsuleNNSaltDetection\n",
      "\n"
     ]
    },
    {
     "name": "stderr",
     "output_type": "stream",
     "text": [
      "100%|██████████| 445M/445M [00:06<00:00, 72.6MB/s] \n"
     ]
    }
   ],
   "source": [
    "%%bash\n",
    "\n",
    "kaggle competitions download -c tgs-salt-identification-challenge"
   ]
  },
  {
   "cell_type": "markdown",
   "id": "c1a80dfa",
   "metadata": {},
   "source": [
    "Unzip the dataset to the images directory and remove the original ZIP file"
   ]
  },
  {
   "cell_type": "code",
   "execution_count": 4,
   "id": "c0ef09fc",
   "metadata": {},
   "outputs": [
    {
     "name": "stdout",
     "output_type": "stream",
     "text": [
      "Archive:  tgs-salt-identification-challenge.zip\n",
      "  inflating: dataset/competition_data.zip  \n",
      "  inflating: dataset/depths.csv      \n",
      "  inflating: dataset/flamingo.zip    \n",
      "  inflating: dataset/sample_submission.csv  \n",
      "  inflating: dataset/test.zip        \n",
      "  inflating: dataset/train.csv       \n",
      "  inflating: dataset/train.zip       \n"
     ]
    }
   ],
   "source": [
    "%%bash\n",
    "\n",
    "unzip tgs-salt-identification-challenge.zip -d dataset\n",
    "rm -rf tgs-salt-identification-challenge.zip"
   ]
  },
  {
   "cell_type": "code",
   "execution_count": null,
   "id": "801619b9",
   "metadata": {},
   "outputs": [],
   "source": []
  }
 ],
 "metadata": {
  "kernelspec": {
   "display_name": "",
   "name": ""
  },
  "language_info": {
   "name": ""
  }
 },
 "nbformat": 4,
 "nbformat_minor": 5
}
