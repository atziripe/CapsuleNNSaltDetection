{
 "cells": [
  {
   "cell_type": "code",
   "execution_count": 3,
   "id": "e1a48d4d",
   "metadata": {},
   "outputs": [],
   "source": [
    "import boto3\n",
    "import numpy as np\n",
    "import os\n",
    "import pathlib\n",
    "import random\n",
    "import tensorflow as tf\n",
    "import time\n",
    "\n",
    "from keras.preprocessing.image import img_to_array, load_img\n",
    "from sagemaker import get_execution_role\n",
    "from sagemaker.amazon.amazon_estimator import get_image_uri\n",
    "from sagemaker.tensorflow import TensorFlow\n",
    "from sklearn.model_selection import train_test_split"
   ]
  },
  {
   "cell_type": "markdown",
   "id": "0423ff0e",
   "metadata": {},
   "source": [
    "## Converting images to the TFRecord format"
   ]
  },
  {
   "cell_type": "markdown",
   "id": "cb907341",
   "metadata": {},
   "source": [
    "Get all images paths and shuffle them"
   ]
  },
  {
   "cell_type": "code",
   "execution_count": 4,
   "id": "8621bd59",
   "metadata": {},
   "outputs": [],
   "source": [
    "data_root = pathlib.Path(os.path.join(os.getcwd(), 'dataset'))"
   ]
  },
  {
   "cell_type": "code",
   "execution_count": 5,
   "id": "436b2b1e",
   "metadata": {},
   "outputs": [],
   "source": [
    "all_image_paths = list(data_root.glob('*/*/*'))\n",
    "all_image_paths = [str(path) for path in all_image_paths]\n",
    "random.shuffle(all_image_paths)\n",
    "image_count = len(all_image_paths)"
   ]
  },
  {
   "cell_type": "code",
   "execution_count": 6,
   "id": "193b51d0",
   "metadata": {},
   "outputs": [
    {
     "data": {
      "text/plain": [
       "['/home/ec2-user/SageMaker/CapsuleNNSaltDetection/dataset/0/images/000a68e46c.png',\n",
       " '/home/ec2-user/SageMaker/CapsuleNNSaltDetection/dataset/1/images/1a4278325d.png',\n",
       " '/home/ec2-user/SageMaker/CapsuleNNSaltDetection/dataset/0/images/2c436eb10f.png',\n",
       " '/home/ec2-user/SageMaker/CapsuleNNSaltDetection/dataset/0/images/aa4be18d6a.png',\n",
       " '/home/ec2-user/SageMaker/CapsuleNNSaltDetection/dataset/0/images/4eacd42b51.png',\n",
       " '/home/ec2-user/SageMaker/CapsuleNNSaltDetection/dataset/1/masks/c26ff00bfd.png',\n",
       " '/home/ec2-user/SageMaker/CapsuleNNSaltDetection/dataset/1/masks/74d7a9df8b.png',\n",
       " '/home/ec2-user/SageMaker/CapsuleNNSaltDetection/dataset/0/images/e24efb21d8.png',\n",
       " '/home/ec2-user/SageMaker/CapsuleNNSaltDetection/dataset/0/images/31d2ea0306.png',\n",
       " '/home/ec2-user/SageMaker/CapsuleNNSaltDetection/dataset/0/images/5ec71d2e6e.png']"
      ]
     },
     "execution_count": 6,
     "metadata": {},
     "output_type": "execute_result"
    }
   ],
   "source": [
    "all_image_paths[:10]"
   ]
  },
  {
   "cell_type": "markdown",
   "id": "1cddbef5",
   "metadata": {},
   "source": [
    "Get all images labels"
   ]
  },
  {
   "cell_type": "code",
   "execution_count": 7,
   "id": "7573be6b",
   "metadata": {},
   "outputs": [],
   "source": [
    "all_image_labels = [int (pathlib.Path(path).parent.parent.name) for path in all_image_paths]"
   ]
  },
  {
   "cell_type": "code",
   "execution_count": 8,
   "id": "546e496d",
   "metadata": {},
   "outputs": [
    {
     "data": {
      "text/plain": [
       "[0, 1, 0, 0, 0, 1, 1, 0, 0, 0]"
      ]
     },
     "execution_count": 8,
     "metadata": {},
     "output_type": "execute_result"
    }
   ],
   "source": [
    "all_image_labels[:10]"
   ]
  },
  {
   "cell_type": "markdown",
   "id": "80912149",
   "metadata": {},
   "source": [
    "## Get a numpy array containing all images with their associated labels"
   ]
  },
  {
   "cell_type": "code",
   "execution_count": 9,
   "id": "9ba9882e",
   "metadata": {},
   "outputs": [],
   "source": [
    "channels = 3\n",
    "image_height = 101\n",
    "image_width = 101"
   ]
  },
  {
   "cell_type": "code",
   "execution_count": 12,
   "id": "3939153f",
   "metadata": {},
   "outputs": [
    {
     "name": "stdout",
     "output_type": "stream",
     "text": [
      "500 images to array\n"
     ]
    },
    {
     "ename": "IsADirectoryError",
     "evalue": "[Errno 21] Is a directory: '/home/ec2-user/SageMaker/CapsuleNNSaltDetection/dataset/0/images/.ipynb_checkpoints'",
     "output_type": "error",
     "traceback": [
      "\u001b[0;31m---------------------------------------------------------------------------\u001b[0m",
      "\u001b[0;31mIsADirectoryError\u001b[0m                         Traceback (most recent call last)",
      "\u001b[0;32m<ipython-input-12-c974acf034e8>\u001b[0m in \u001b[0;36m<module>\u001b[0;34m\u001b[0m\n\u001b[1;32m      2\u001b[0m \u001b[0mi\u001b[0m \u001b[0;34m=\u001b[0m \u001b[0;36m0\u001b[0m\u001b[0;34m\u001b[0m\u001b[0;34m\u001b[0m\u001b[0m\n\u001b[1;32m      3\u001b[0m \u001b[0;32mfor\u001b[0m \u001b[0mfile\u001b[0m \u001b[0;32min\u001b[0m \u001b[0mall_image_paths\u001b[0m\u001b[0;34m:\u001b[0m\u001b[0;34m\u001b[0m\u001b[0;34m\u001b[0m\u001b[0m\n\u001b[0;32m----> 4\u001b[0;31m     \u001b[0mimg\u001b[0m \u001b[0;34m=\u001b[0m \u001b[0mload_img\u001b[0m\u001b[0;34m(\u001b[0m\u001b[0mfile\u001b[0m\u001b[0;34m)\u001b[0m\u001b[0;34m\u001b[0m\u001b[0;34m\u001b[0m\u001b[0m\n\u001b[0m\u001b[1;32m      5\u001b[0m     \u001b[0mimg\u001b[0m \u001b[0;34m=\u001b[0m \u001b[0mimg\u001b[0m\u001b[0;34m.\u001b[0m\u001b[0mresize\u001b[0m\u001b[0;34m(\u001b[0m\u001b[0;34m(\u001b[0m\u001b[0mimage_width\u001b[0m\u001b[0;34m,\u001b[0m \u001b[0mimage_height\u001b[0m\u001b[0;34m)\u001b[0m\u001b[0;34m)\u001b[0m\u001b[0;34m\u001b[0m\u001b[0;34m\u001b[0m\u001b[0m\n\u001b[1;32m      6\u001b[0m     \u001b[0mx\u001b[0m \u001b[0;34m=\u001b[0m \u001b[0mimg_to_array\u001b[0m\u001b[0;34m(\u001b[0m\u001b[0mimg\u001b[0m\u001b[0;34m,\u001b[0m \u001b[0;34m'channels_last'\u001b[0m\u001b[0;34m)\u001b[0m\u001b[0;34m\u001b[0m\u001b[0;34m\u001b[0m\u001b[0m\n",
      "\u001b[0;32m~/anaconda3/envs/tensorflow_p36/lib/python3.6/site-packages/keras_preprocessing/image/utils.py\u001b[0m in \u001b[0;36mload_img\u001b[0;34m(path, grayscale, color_mode, target_size, interpolation)\u001b[0m\n\u001b[1;32m    111\u001b[0m         raise ImportError('Could not import PIL.Image. '\n\u001b[1;32m    112\u001b[0m                           'The use of `load_img` requires PIL.')\n\u001b[0;32m--> 113\u001b[0;31m     \u001b[0;32mwith\u001b[0m \u001b[0mopen\u001b[0m\u001b[0;34m(\u001b[0m\u001b[0mpath\u001b[0m\u001b[0;34m,\u001b[0m \u001b[0;34m'rb'\u001b[0m\u001b[0;34m)\u001b[0m \u001b[0;32mas\u001b[0m \u001b[0mf\u001b[0m\u001b[0;34m:\u001b[0m\u001b[0;34m\u001b[0m\u001b[0;34m\u001b[0m\u001b[0m\n\u001b[0m\u001b[1;32m    114\u001b[0m         \u001b[0mimg\u001b[0m \u001b[0;34m=\u001b[0m \u001b[0mpil_image\u001b[0m\u001b[0;34m.\u001b[0m\u001b[0mopen\u001b[0m\u001b[0;34m(\u001b[0m\u001b[0mio\u001b[0m\u001b[0;34m.\u001b[0m\u001b[0mBytesIO\u001b[0m\u001b[0;34m(\u001b[0m\u001b[0mf\u001b[0m\u001b[0;34m.\u001b[0m\u001b[0mread\u001b[0m\u001b[0;34m(\u001b[0m\u001b[0;34m)\u001b[0m\u001b[0;34m)\u001b[0m\u001b[0;34m)\u001b[0m\u001b[0;34m\u001b[0m\u001b[0;34m\u001b[0m\u001b[0m\n\u001b[1;32m    115\u001b[0m         \u001b[0;32mif\u001b[0m \u001b[0mcolor_mode\u001b[0m \u001b[0;34m==\u001b[0m \u001b[0;34m'grayscale'\u001b[0m\u001b[0;34m:\u001b[0m\u001b[0;34m\u001b[0m\u001b[0;34m\u001b[0m\u001b[0m\n",
      "\u001b[0;31mIsADirectoryError\u001b[0m: [Errno 21] Is a directory: '/home/ec2-user/SageMaker/CapsuleNNSaltDetection/dataset/0/images/.ipynb_checkpoints'"
     ]
    }
   ],
   "source": [
    "dataset = np.ndarray(shape = (image_count, image_height, image_width, channels), dtype=np.uint8)\n",
    "i = 0\n",
    "for file in all_image_paths:\n",
    "    img = load_img(file)\n",
    "    img = img.resize((image_width, image_height))\n",
    "    x = img_to_array(img, 'channels_last')\n",
    "    dataset[i] = x\n",
    "    i += 1\n",
    "    if i % 500 == 0:\n",
    "        print(\"%d images to array\" % i)\n",
    "print(\"All images to array\")"
   ]
  },
  {
   "cell_type": "code",
   "execution_count": null,
   "id": "a9350806",
   "metadata": {},
   "outputs": [],
   "source": []
  }
 ],
 "metadata": {
  "kernelspec": {
   "display_name": "conda_tensorflow_p36",
   "language": "python",
   "name": "conda_tensorflow_p36"
  },
  "language_info": {
   "codemirror_mode": {
    "name": "ipython",
    "version": 3
   },
   "file_extension": ".py",
   "mimetype": "text/x-python",
   "name": "python",
   "nbconvert_exporter": "python",
   "pygments_lexer": "ipython3",
   "version": "3.6.13"
  }
 },
 "nbformat": 4,
 "nbformat_minor": 5
}
